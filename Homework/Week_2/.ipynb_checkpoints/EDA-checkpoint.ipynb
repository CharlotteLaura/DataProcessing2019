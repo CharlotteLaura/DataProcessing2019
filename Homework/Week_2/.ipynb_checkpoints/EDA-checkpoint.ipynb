{
 "cells": [
  {
   "cell_type": "code",
   "execution_count": 86,
   "metadata": {},
   "outputs": [],
   "source": [
    "import csv\n",
    "import matplotlib.pyplot as plt\n",
    "import pandas as pd"
   ]
  },
  {
   "cell_type": "code",
   "execution_count": 87,
   "metadata": {},
   "outputs": [],
   "source": [
    "input_csv = \"input.csv\""
   ]
  },
  {
   "cell_type": "code",
   "execution_count": 88,
   "metadata": {},
   "outputs": [],
   "source": [
    "df = pd.read_csv(input_csv)"
   ]
  },
  {
   "cell_type": "code",
   "execution_count": 89,
   "metadata": {},
   "outputs": [],
   "source": [
    "relevant_columns = ['Country', 'Region', 'Pop. Density (per sq. mi.)', 'Infant mortality (per 1000 births)', 'GDP ($ per capita) dollars']\n",
    "df2 = df[relevant_columns]\n",
    "#print(df2)"
   ]
  },
  {
   "cell_type": "code",
   "execution_count": 90,
   "metadata": {},
   "outputs": [
    {
     "name": "stdout",
     "output_type": "stream",
     "text": [
      "(227, 5)\n",
      "RangeIndex(start=0, stop=227, step=1)\n",
      "<class 'pandas.core.frame.DataFrame'>\n",
      "RangeIndex: 227 entries, 0 to 226\n",
      "Data columns (total 5 columns):\n",
      "Country                               227 non-null object\n",
      "Region                                227 non-null object\n",
      "Pop. Density (per sq. mi.)            227 non-null object\n",
      "Infant mortality (per 1000 births)    224 non-null object\n",
      "GDP ($ per capita) dollars            226 non-null object\n",
      "dtypes: object(5)\n",
      "memory usage: 8.9+ KB\n",
      "None\n",
      "         Country                               Region  \\\n",
      "count        227                                  227   \n",
      "unique       227                                   11   \n",
      "top     Burundi   SUB-SAHARAN AFRICA                    \n",
      "freq           1                                   51   \n",
      "\n",
      "       Pop. Density (per sq. mi.) Infant mortality (per 1000 births)  \\\n",
      "count                         227                                224   \n",
      "unique                        217                                220   \n",
      "top                       unknown                               9,95   \n",
      "freq                            5                                  3   \n",
      "\n",
      "       GDP ($ per capita) dollars  \n",
      "count                         226  \n",
      "unique                        131  \n",
      "top                   800 dollars  \n",
      "freq                            7  \n"
     ]
    }
   ],
   "source": [
    "print(df2.shape)\n",
    "print(df2.index)\n",
    "print(df2.info())\n",
    "print(df2.describe())"
   ]
  },
  {
   "cell_type": "code",
   "execution_count": 91,
   "metadata": {},
   "outputs": [
    {
     "data": {
      "text/plain": [
       "Country                               False\n",
       "Region                                False\n",
       "Pop. Density (per sq. mi.)            False\n",
       "Infant mortality (per 1000 births)     True\n",
       "GDP ($ per capita) dollars             True\n",
       "dtype: bool"
      ]
     },
     "execution_count": 91,
     "metadata": {},
     "output_type": "execute_result"
    }
   ],
   "source": [
    "df2.isnull().any()"
   ]
  },
  {
   "cell_type": "code",
   "execution_count": 92,
   "metadata": {},
   "outputs": [],
   "source": [
    "df2.to_excel(\"output.xlsx\")"
   ]
  },
  {
   "cell_type": "code",
   "execution_count": 93,
   "metadata": {},
   "outputs": [
    {
     "data": {
      "text/plain": [
       "array(['ASIA (EX. NEAR EAST)         ',\n",
       "       'EASTERN EUROPE                     ',\n",
       "       'NORTHERN AFRICA                    ',\n",
       "       'OCEANIA                            ',\n",
       "       'WESTERN EUROPE                     ',\n",
       "       'SUB-SAHARAN AFRICA                 ', 'LATIN AMER. & CARIB    ',\n",
       "       'C.W. OF IND. STATES ', 'NEAR EAST                          ',\n",
       "       'NORTHERN AMERICA                   ',\n",
       "       'BALTICS                            '], dtype=object)"
      ]
     },
     "execution_count": 93,
     "metadata": {},
     "output_type": "execute_result"
    }
   ],
   "source": [
    "df2['Region'].unique()"
   ]
  },
  {
   "cell_type": "code",
   "execution_count": 94,
   "metadata": {},
   "outputs": [
    {
     "name": "stdout",
     "output_type": "stream",
     "text": [
      "0      700 dollars\n",
      "1     4500 dollars\n",
      "2     6000 dollars\n",
      "3     8000 dollars\n",
      "4    19000 dollars\n",
      "Name: GDP ($ per capita) dollars, dtype: object\n"
     ]
    }
   ],
   "source": [
    "df_gdp = df2['GDP ($ per capita) dollars']\n",
    "print(df_gdp.head())"
   ]
  },
  {
   "cell_type": "code",
   "execution_count": 95,
   "metadata": {},
   "outputs": [
    {
     "data": {
      "text/plain": [
       "0        700\n",
       "1       4500\n",
       "2       6000\n",
       "3       8000\n",
       "4      19000\n",
       "5       1900\n",
       "6       8600\n",
       "7      11000\n",
       "8      11200\n",
       "9       3500\n",
       "10     28000\n",
       "11     29000\n",
       "12     30000\n",
       "13      3400\n",
       "14     16700\n",
       "15     16900\n",
       "16      1900\n",
       "17     15700\n",
       "18      6100\n",
       "19     29100\n",
       "20      4900\n",
       "21      1100\n",
       "22     36000\n",
       "23      1300\n",
       "24      2400\n",
       "25      6100\n",
       "26      9000\n",
       "27      7600\n",
       "28     16000\n",
       "29     18600\n",
       "       ...  \n",
       "197     3300\n",
       "198    23400\n",
       "199     1000\n",
       "200      600\n",
       "201     7400\n",
       "202     1500\n",
       "203     2200\n",
       "204     9500\n",
       "205     6900\n",
       "206     6700\n",
       "207     5800\n",
       "208     9600\n",
       "209     1100\n",
       "210     1400\n",
       "211     5400\n",
       "212    23200\n",
       "213    27700\n",
       "214    37800\n",
       "215    12800\n",
       "216     1700\n",
       "217     2900\n",
       "218     4800\n",
       "219     2500\n",
       "220    17200\n",
       "221     3700\n",
       "222      800\n",
       "223      NaN\n",
       "224      800\n",
       "225      800\n",
       "226     1900\n",
       "Name: GDP ($ per capita) dollars, Length: 227, dtype: object"
      ]
     },
     "execution_count": 95,
     "metadata": {},
     "output_type": "execute_result"
    }
   ],
   "source": [
    "df_gdp.str.strip(' dollars')"
   ]
  },
  {
   "cell_type": "code",
   "execution_count": 96,
   "metadata": {},
   "outputs": [
    {
     "name": "stdout",
     "output_type": "stream",
     "text": [
      "           Country                               Region  \\\n",
      "0     Afghanistan         ASIA (EX. NEAR EAST)            \n",
      "1         Albania   EASTERN EUROPE                        \n",
      "2         Algeria   NORTHERN AFRICA                       \n",
      "3  American Samoa   OCEANIA                               \n",
      "4         Andorra   WESTERN EUROPE                        \n",
      "\n",
      "  Pop. Density (per sq. mi.) Infant mortality (per 1000 births)  \\\n",
      "0                       48,0                             163,07   \n",
      "1                      124,6                              21,52   \n",
      "2                       13,8                                 31   \n",
      "3                      290,4                               9,27   \n",
      "4                      152,1                               4,05   \n",
      "\n",
      "  GDP ($ per capita) dollars  \n",
      "0                        700  \n",
      "1                       4500  \n",
      "2                       6000  \n",
      "3                       8000  \n",
      "4                      19000  \n"
     ]
    },
    {
     "name": "stderr",
     "output_type": "stream",
     "text": [
      "/anaconda3/lib/python3.6/site-packages/pandas/core/indexing.py:630: SettingWithCopyWarning: \n",
      "A value is trying to be set on a copy of a slice from a DataFrame.\n",
      "Try using .loc[row_indexer,col_indexer] = value instead\n",
      "\n",
      "See the caveats in the documentation: http://pandas.pydata.org/pandas-docs/stable/indexing.html#indexing-view-versus-copy\n",
      "  self.obj[item_labels[indexer[info_axis]]] = value\n"
     ]
    }
   ],
   "source": [
    "df2.iloc[:, 4] = df2.iloc[:, 4].str.strip(' dollars')\n",
    "print (df2.head())"
   ]
  },
  {
   "cell_type": "code",
   "execution_count": 97,
   "metadata": {},
   "outputs": [],
   "source": [
    "#df2.loc[:,'GDP ($ per capita) dollars'] = df2['GDP ($ per capita) dollars'].str.strip(' dollars')\n",
    "#print(df2.head())"
   ]
  },
  {
   "cell_type": "code",
   "execution_count": 98,
   "metadata": {},
   "outputs": [
    {
     "name": "stderr",
     "output_type": "stream",
     "text": [
      "/anaconda3/lib/python3.6/site-packages/pandas/core/generic.py:5886: SettingWithCopyWarning: \n",
      "A value is trying to be set on a copy of a slice from a DataFrame\n",
      "\n",
      "See the caveats in the documentation: http://pandas.pydata.org/pandas-docs/stable/indexing.html#indexing-view-versus-copy\n",
      "  self._update_inplace(new_data)\n"
     ]
    }
   ],
   "source": [
    "df2['GDP ($ per capita) dollars'].replace('unknown', '0', inplace=True)\n",
    "#print(df2)"
   ]
  },
  {
   "cell_type": "code",
   "execution_count": 99,
   "metadata": {},
   "outputs": [
    {
     "name": "stdout",
     "output_type": "stream",
     "text": [
      "                   Country                               Region  \\\n",
      "0             Afghanistan         ASIA (EX. NEAR EAST)            \n",
      "1                 Albania   EASTERN EUROPE                        \n",
      "2                 Algeria   NORTHERN AFRICA                       \n",
      "3          American Samoa   OCEANIA                               \n",
      "4                 Andorra   WESTERN EUROPE                        \n",
      "5                  Angola   SUB-SAHARAN AFRICA                    \n",
      "6                Anguilla               LATIN AMER. & CARIB       \n",
      "7       Antigua & Barbuda               LATIN AMER. & CARIB       \n",
      "8               Argentina               LATIN AMER. & CARIB       \n",
      "9                 Armenia                  C.W. OF IND. STATES    \n",
      "10                  Aruba               LATIN AMER. & CARIB       \n",
      "11              Australia   OCEANIA                               \n",
      "12                Austria   WESTERN EUROPE                        \n",
      "13             Azerbaijan                  C.W. OF IND. STATES    \n",
      "14           Bahamas, The               LATIN AMER. & CARIB       \n",
      "15                Bahrain   NEAR EAST                             \n",
      "16             Bangladesh         ASIA (EX. NEAR EAST)            \n",
      "17               Barbados               LATIN AMER. & CARIB       \n",
      "18                Belarus                  C.W. OF IND. STATES    \n",
      "19                Belgium   WESTERN EUROPE                        \n",
      "20                 Belize               LATIN AMER. & CARIB       \n",
      "21                  Benin   SUB-SAHARAN AFRICA                    \n",
      "22                Bermuda   NORTHERN AMERICA                      \n",
      "23                 Bhutan         ASIA (EX. NEAR EAST)            \n",
      "24                Bolivia               LATIN AMER. & CARIB       \n",
      "25   Bosnia & Herzegovina   EASTERN EUROPE                        \n",
      "26               Botswana   SUB-SAHARAN AFRICA                    \n",
      "27                 Brazil               LATIN AMER. & CARIB       \n",
      "28     British Virgin Is.               LATIN AMER. & CARIB       \n",
      "29                 Brunei         ASIA (EX. NEAR EAST)            \n",
      "..                     ...                                  ...   \n",
      "197                 Syria   NEAR EAST                             \n",
      "198                Taiwan         ASIA (EX. NEAR EAST)            \n",
      "199            Tajikistan                  C.W. OF IND. STATES    \n",
      "200              Tanzania   SUB-SAHARAN AFRICA                    \n",
      "201              Thailand         ASIA (EX. NEAR EAST)            \n",
      "202                  Togo   SUB-SAHARAN AFRICA                    \n",
      "203                 Tonga   OCEANIA                               \n",
      "204     Trinidad & Tobago               LATIN AMER. & CARIB       \n",
      "205               Tunisia   NORTHERN AFRICA                       \n",
      "206                Turkey   NEAR EAST                             \n",
      "207          Turkmenistan                  C.W. OF IND. STATES    \n",
      "208     Turks & Caicos Is               LATIN AMER. & CARIB       \n",
      "209                Tuvalu   OCEANIA                               \n",
      "210                Uganda   SUB-SAHARAN AFRICA                    \n",
      "211               Ukraine                  C.W. OF IND. STATES    \n",
      "212  United Arab Emirates   NEAR EAST                             \n",
      "213        United Kingdom   WESTERN EUROPE                        \n",
      "214         United States   NORTHERN AMERICA                      \n",
      "215               Uruguay               LATIN AMER. & CARIB       \n",
      "216            Uzbekistan                  C.W. OF IND. STATES    \n",
      "217               Vanuatu   OCEANIA                               \n",
      "218             Venezuela               LATIN AMER. & CARIB       \n",
      "219               Vietnam         ASIA (EX. NEAR EAST)            \n",
      "220        Virgin Islands               LATIN AMER. & CARIB       \n",
      "221     Wallis and Futuna   OCEANIA                               \n",
      "222             West Bank   NEAR EAST                             \n",
      "223        Western Sahara   NORTHERN AFRICA                       \n",
      "224                 Yemen   NEAR EAST                             \n",
      "225                Zambia   SUB-SAHARAN AFRICA                    \n",
      "226              Zimbabwe   SUB-SAHARAN AFRICA                    \n",
      "\n",
      "    Pop. Density (per sq. mi.) Infant mortality (per 1000 births)  \\\n",
      "0                         48,0                             163,07   \n",
      "1                        124,6                              21,52   \n",
      "2                         13,8                                 31   \n",
      "3                        290,4                               9,27   \n",
      "4                        152,1                               4,05   \n",
      "5                          9,7                             191,19   \n",
      "6                        132,1                              21,03   \n",
      "7                        156,0                              19,46   \n",
      "8                         14,4                              15,18   \n",
      "9                         99,9                              23,28   \n",
      "10                           0                               5,89   \n",
      "11                         2,6                               4,69   \n",
      "12                        97,7                               4,66   \n",
      "13                        91,9                              81,74   \n",
      "14                        21,8                              25,21   \n",
      "15                      1050,5                              17,27   \n",
      "16                      1023,4                               62,6   \n",
      "17                       649,5                               12,5   \n",
      "18                        49,6                              13,37   \n",
      "19                       340,0                               4,68   \n",
      "20                        12,5                              25,69   \n",
      "21                        69,8                                 85   \n",
      "22                      1241,0                               8,53   \n",
      "23                        48,5                             100,44   \n",
      "24                         8,2                              53,11   \n",
      "25                        88,0                              21,05   \n",
      "26                         2,7                              54,58   \n",
      "27                        22,1                              29,61   \n",
      "28                       151,0                              18,05   \n",
      "29                        65,8                              12,61   \n",
      "..                         ...                                ...   \n",
      "197                      102,0                              29,53   \n",
      "198                      640,3                                6,4   \n",
      "199                       51,2                             110,76   \n",
      "200                       39,6                              98,54   \n",
      "201                      125,7                              20,48   \n",
      "202                       97,7                              66,61   \n",
      "203                      153,3                              12,62   \n",
      "204                      207,9                              24,31   \n",
      "205                       62,2                              24,77   \n",
      "206                       90,2                              41,04   \n",
      "207                       10,3                              73,08   \n",
      "208                       49,2                              15,67   \n",
      "209                      454,2                              20,03   \n",
      "210                      119,5                              67,83   \n",
      "211                       77,4                              20,34   \n",
      "212                       31,4                              14,51   \n",
      "213                      247,6                               5,16   \n",
      "214                       31,0                                6,5   \n",
      "215                       19,5                              11,95   \n",
      "216                       61,0                               71,1   \n",
      "217                       17,1                              55,16   \n",
      "218                       28,2                               22,2   \n",
      "219                      256,1                              25,95   \n",
      "220                       56,9                               8,03   \n",
      "221                       58,5                                NaN   \n",
      "222                      419,9                              19,62   \n",
      "223                        1,0                                NaN   \n",
      "224                       40,6                               61,5   \n",
      "225                       15,3                              88,29   \n",
      "226                       31,3                              67,69   \n",
      "\n",
      "    GDP ($ per capita) dollars  \n",
      "0                          700  \n",
      "1                         4500  \n",
      "2                         6000  \n",
      "3                         8000  \n",
      "4                        19000  \n",
      "5                         1900  \n",
      "6                         8600  \n",
      "7                        11000  \n",
      "8                        11200  \n",
      "9                         3500  \n",
      "10                       28000  \n",
      "11                       29000  \n",
      "12                       30000  \n",
      "13                        3400  \n",
      "14                       16700  \n",
      "15                       16900  \n",
      "16                        1900  \n",
      "17                       15700  \n",
      "18                        6100  \n",
      "19                       29100  \n",
      "20                        4900  \n",
      "21                        1100  \n",
      "22                       36000  \n",
      "23                        1300  \n",
      "24                        2400  \n",
      "25                        6100  \n",
      "26                        9000  \n",
      "27                        7600  \n",
      "28                       16000  \n",
      "29                       18600  \n",
      "..                         ...  \n",
      "197                       3300  \n",
      "198                      23400  \n",
      "199                       1000  \n",
      "200                        600  \n",
      "201                       7400  \n",
      "202                       1500  \n",
      "203                       2200  \n",
      "204                       9500  \n",
      "205                       6900  \n",
      "206                       6700  \n",
      "207                       5800  \n",
      "208                       9600  \n",
      "209                       1100  \n",
      "210                       1400  \n",
      "211                       5400  \n",
      "212                      23200  \n",
      "213                      27700  \n",
      "214                      37800  \n",
      "215                      12800  \n",
      "216                       1700  \n",
      "217                       2900  \n",
      "218                       4800  \n",
      "219                       2500  \n",
      "220                      17200  \n",
      "221                       3700  \n",
      "222                        800  \n",
      "223                        NaN  \n",
      "224                        800  \n",
      "225                        800  \n",
      "226                       1900  \n",
      "\n",
      "[227 rows x 5 columns]\n"
     ]
    },
    {
     "name": "stderr",
     "output_type": "stream",
     "text": [
      "/anaconda3/lib/python3.6/site-packages/pandas/core/generic.py:5886: SettingWithCopyWarning: \n",
      "A value is trying to be set on a copy of a slice from a DataFrame\n",
      "\n",
      "See the caveats in the documentation: http://pandas.pydata.org/pandas-docs/stable/indexing.html#indexing-view-versus-copy\n",
      "  self._update_inplace(new_data)\n"
     ]
    }
   ],
   "source": [
    "df2['Pop. Density (per sq. mi.)'].replace('unknown', '0', inplace=True)\n",
    "print(df2)"
   ]
  },
  {
   "cell_type": "code",
   "execution_count": 100,
   "metadata": {},
   "outputs": [
    {
     "name": "stdout",
     "output_type": "stream",
     "text": [
      "<class 'pandas.core.frame.DataFrame'>\n",
      "RangeIndex: 227 entries, 0 to 226\n",
      "Data columns (total 5 columns):\n",
      "Country                               227 non-null object\n",
      "Region                                227 non-null object\n",
      "Pop. Density (per sq. mi.)            227 non-null object\n",
      "Infant mortality (per 1000 births)    224 non-null object\n",
      "GDP ($ per capita) dollars            226 non-null object\n",
      "dtypes: object(5)\n",
      "memory usage: 8.9+ KB\n"
     ]
    }
   ],
   "source": [
    "df2.describe()\n",
    "df2.info()"
   ]
  },
  {
   "cell_type": "code",
   "execution_count": 101,
   "metadata": {
    "scrolled": true
   },
   "outputs": [
    {
     "name": "stdout",
     "output_type": "stream",
     "text": [
      "           Country                               Region Population_density  \\\n",
      "0     Afghanistan         ASIA (EX. NEAR EAST)                        48,0   \n",
      "1         Albania   EASTERN EUROPE                                   124,6   \n",
      "2         Algeria   NORTHERN AFRICA                                   13,8   \n",
      "3  American Samoa   OCEANIA                                          290,4   \n",
      "4         Andorra   WESTERN EUROPE                                   152,1   \n",
      "\n",
      "  Infant_mortality GDP_per_cap_dollars  \n",
      "0           163,07                 700  \n",
      "1            21,52                4500  \n",
      "2               31                6000  \n",
      "3             9,27                8000  \n",
      "4             4,05               19000  \n"
     ]
    },
    {
     "name": "stderr",
     "output_type": "stream",
     "text": [
      "/anaconda3/lib/python3.6/site-packages/pandas/core/frame.py:3778: SettingWithCopyWarning: \n",
      "A value is trying to be set on a copy of a slice from a DataFrame\n",
      "\n",
      "See the caveats in the documentation: http://pandas.pydata.org/pandas-docs/stable/indexing.html#indexing-view-versus-copy\n",
      "  return super(DataFrame, self).rename(**kwargs)\n"
     ]
    }
   ],
   "source": [
    "df2.rename(columns={'Pop. Density (per sq. mi.)':'Population_density',\n",
    "                          'Infant mortality (per 1000 births)':'Infant_mortality',\n",
    "                          'GDP ($ per capita) dollars':'GDP_per_cap_dollars'}, \n",
    "                 inplace=True)\n",
    "print(df2.head())"
   ]
  },
  {
   "cell_type": "code",
   "execution_count": 102,
   "metadata": {
    "scrolled": true
   },
   "outputs": [
    {
     "name": "stderr",
     "output_type": "stream",
     "text": [
      "/anaconda3/lib/python3.6/site-packages/ipykernel_launcher.py:1: SettingWithCopyWarning: \n",
      "A value is trying to be set on a copy of a slice from a DataFrame.\n",
      "Try using .loc[row_indexer,col_indexer] = value instead\n",
      "\n",
      "See the caveats in the documentation: http://pandas.pydata.org/pandas-docs/stable/indexing.html#indexing-view-versus-copy\n",
      "  \"\"\"Entry point for launching an IPython kernel.\n"
     ]
    }
   ],
   "source": [
    "df2[\"GDP_per_cap_dollars\"] = df2.GDP_per_cap_dollars.astype(float)"
   ]
  },
  {
   "cell_type": "code",
   "execution_count": 103,
   "metadata": {},
   "outputs": [
    {
     "name": "stdout",
     "output_type": "stream",
     "text": [
      "<class 'pandas.core.frame.DataFrame'>\n",
      "RangeIndex: 227 entries, 0 to 226\n",
      "Data columns (total 5 columns):\n",
      "Country                227 non-null object\n",
      "Region                 227 non-null object\n",
      "Population_density     227 non-null object\n",
      "Infant_mortality       224 non-null object\n",
      "GDP_per_cap_dollars    226 non-null float64\n",
      "dtypes: float64(1), object(4)\n",
      "memory usage: 8.9+ KB\n"
     ]
    },
    {
     "data": {
      "text/plain": [
       "Index(['Country', 'Region', 'Population_density', 'Infant_mortality',\n",
       "       'GDP_per_cap_dollars'],\n",
       "      dtype='object')"
      ]
     },
     "execution_count": 103,
     "metadata": {},
     "output_type": "execute_result"
    }
   ],
   "source": [
    "df2.info()\n",
    "df2.keys()\n",
    "df2.columns"
   ]
  },
  {
   "cell_type": "code",
   "execution_count": 104,
   "metadata": {},
   "outputs": [],
   "source": [
    "#df2[\"Population_density\"] = df2.Population_density.astype(float)\n",
    "#df2[\"Population_density\"] = pd.to_numeric(df2[\"Population_density\"],errors='coerce')"
   ]
  },
  {
   "cell_type": "code",
   "execution_count": 105,
   "metadata": {},
   "outputs": [
    {
     "name": "stdout",
     "output_type": "stream",
     "text": [
      "<class 'pandas.core.frame.DataFrame'>\n",
      "RangeIndex: 227 entries, 0 to 226\n",
      "Data columns (total 5 columns):\n",
      "Country                227 non-null object\n",
      "Region                 227 non-null object\n",
      "Population_density     227 non-null object\n",
      "Infant_mortality       224 non-null object\n",
      "GDP_per_cap_dollars    226 non-null float64\n",
      "dtypes: float64(1), object(4)\n",
      "memory usage: 8.9+ KB\n"
     ]
    }
   ],
   "source": [
    "df2.info()"
   ]
  },
  {
   "cell_type": "code",
   "execution_count": 106,
   "metadata": {},
   "outputs": [
    {
     "data": {
      "text/html": [
       "<div>\n",
       "<style scoped>\n",
       "    .dataframe tbody tr th:only-of-type {\n",
       "        vertical-align: middle;\n",
       "    }\n",
       "\n",
       "    .dataframe tbody tr th {\n",
       "        vertical-align: top;\n",
       "    }\n",
       "\n",
       "    .dataframe thead th {\n",
       "        text-align: right;\n",
       "    }\n",
       "</style>\n",
       "<table border=\"1\" class=\"dataframe\">\n",
       "  <thead>\n",
       "    <tr style=\"text-align: right;\">\n",
       "      <th></th>\n",
       "      <th>Country</th>\n",
       "      <th>Region</th>\n",
       "      <th>Population_density</th>\n",
       "      <th>Infant_mortality</th>\n",
       "      <th>GDP_per_cap_dollars</th>\n",
       "    </tr>\n",
       "  </thead>\n",
       "  <tbody>\n",
       "    <tr>\n",
       "      <th>0</th>\n",
       "      <td>Afghanistan</td>\n",
       "      <td>ASIA (EX. NEAR EAST)</td>\n",
       "      <td>48,0</td>\n",
       "      <td>163,07</td>\n",
       "      <td>700.0</td>\n",
       "    </tr>\n",
       "    <tr>\n",
       "      <th>1</th>\n",
       "      <td>Albania</td>\n",
       "      <td>EASTERN EUROPE</td>\n",
       "      <td>124,6</td>\n",
       "      <td>21,52</td>\n",
       "      <td>4500.0</td>\n",
       "    </tr>\n",
       "    <tr>\n",
       "      <th>2</th>\n",
       "      <td>Algeria</td>\n",
       "      <td>NORTHERN AFRICA</td>\n",
       "      <td>13,8</td>\n",
       "      <td>31</td>\n",
       "      <td>6000.0</td>\n",
       "    </tr>\n",
       "    <tr>\n",
       "      <th>3</th>\n",
       "      <td>American Samoa</td>\n",
       "      <td>OCEANIA</td>\n",
       "      <td>290,4</td>\n",
       "      <td>9,27</td>\n",
       "      <td>8000.0</td>\n",
       "    </tr>\n",
       "    <tr>\n",
       "      <th>4</th>\n",
       "      <td>Andorra</td>\n",
       "      <td>WESTERN EUROPE</td>\n",
       "      <td>152,1</td>\n",
       "      <td>4,05</td>\n",
       "      <td>19000.0</td>\n",
       "    </tr>\n",
       "  </tbody>\n",
       "</table>\n",
       "</div>"
      ],
      "text/plain": [
       "           Country                               Region Population_density  \\\n",
       "0     Afghanistan         ASIA (EX. NEAR EAST)                        48,0   \n",
       "1         Albania   EASTERN EUROPE                                   124,6   \n",
       "2         Algeria   NORTHERN AFRICA                                   13,8   \n",
       "3  American Samoa   OCEANIA                                          290,4   \n",
       "4         Andorra   WESTERN EUROPE                                   152,1   \n",
       "\n",
       "  Infant_mortality  GDP_per_cap_dollars  \n",
       "0           163,07                700.0  \n",
       "1            21,52               4500.0  \n",
       "2               31               6000.0  \n",
       "3             9,27               8000.0  \n",
       "4             4,05              19000.0  "
      ]
     },
     "execution_count": 106,
     "metadata": {},
     "output_type": "execute_result"
    }
   ],
   "source": [
    "df2.head()"
   ]
  },
  {
   "cell_type": "code",
   "execution_count": null,
   "metadata": {},
   "outputs": [],
   "source": []
  }
 ],
 "metadata": {
  "kernelspec": {
   "display_name": "Python 3",
   "language": "python",
   "name": "python3"
  },
  "language_info": {
   "codemirror_mode": {
    "name": "ipython",
    "version": 3
   },
   "file_extension": ".py",
   "mimetype": "text/x-python",
   "name": "python",
   "nbconvert_exporter": "python",
   "pygments_lexer": "ipython3",
   "version": "3.6.5"
  }
 },
 "nbformat": 4,
 "nbformat_minor": 2
}
