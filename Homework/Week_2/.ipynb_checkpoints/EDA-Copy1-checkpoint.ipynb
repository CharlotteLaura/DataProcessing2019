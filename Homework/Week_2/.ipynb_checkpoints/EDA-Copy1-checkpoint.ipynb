{
 "cells": [
  {
   "cell_type": "code",
   "execution_count": 1,
   "metadata": {},
   "outputs": [],
   "source": [
    "import csv\n",
    "import matplotlib.pyplot as plt\n",
    "import pandas as pd\n",
    "import numpy as np\n",
    "import matplotlib.cm as cm\n",
    "import matplotlib.colors as colors"
   ]
  },
  {
   "cell_type": "code",
   "execution_count": 2,
   "metadata": {},
   "outputs": [],
   "source": [
    "input_csv = \"input.csv\""
   ]
  },
  {
   "cell_type": "code",
   "execution_count": 3,
   "metadata": {},
   "outputs": [],
   "source": [
    "df = pd.read_csv(input_csv)"
   ]
  },
  {
   "cell_type": "code",
   "execution_count": 4,
   "metadata": {},
   "outputs": [],
   "source": [
    "relevant_columns = ['Country', 'Region', 'Pop. Density (per sq. mi.)', 'Infant mortality (per 1000 births)', 'GDP ($ per capita) dollars']\n",
    "df = df[relevant_columns]"
   ]
  },
  {
   "cell_type": "code",
   "execution_count": 5,
   "metadata": {},
   "outputs": [],
   "source": [
    "df.rename(columns={'Pop. Density (per sq. mi.)':'Population_density',\n",
    "                          'Infant mortality (per 1000 births)':'Infant_mortality',\n",
    "                          'GDP ($ per capita) dollars':'GDP_per_cap_dollars'}, \n",
    "                 inplace=True)"
   ]
  },
  {
   "cell_type": "code",
   "execution_count": 6,
   "metadata": {},
   "outputs": [],
   "source": [
    "df.iloc[:, 4] = df.iloc[:, 4].str.strip(' dollars')"
   ]
  },
  {
   "cell_type": "code",
   "execution_count": 7,
   "metadata": {},
   "outputs": [],
   "source": [
    "df.replace('unknown', np.nan, inplace=True)"
   ]
  },
  {
   "cell_type": "code",
   "execution_count": 8,
   "metadata": {
    "scrolled": true
   },
   "outputs": [
    {
     "name": "stdout",
     "output_type": "stream",
     "text": [
      "<class 'pandas.core.frame.DataFrame'>\n",
      "RangeIndex: 227 entries, 0 to 226\n",
      "Data columns (total 5 columns):\n",
      "Country                227 non-null object\n",
      "Region                 227 non-null object\n",
      "Population_density     222 non-null object\n",
      "Infant_mortality       224 non-null object\n",
      "GDP_per_cap_dollars    222 non-null float64\n",
      "dtypes: float64(1), object(4)\n",
      "memory usage: 8.9+ KB\n",
      "None\n"
     ]
    }
   ],
   "source": [
    "df[\"GDP_per_cap_dollars\"] = df.GDP_per_cap_dollars.astype(float)\n",
    "print(df.info())"
   ]
  },
  {
   "cell_type": "code",
   "execution_count": 9,
   "metadata": {},
   "outputs": [],
   "source": [
    "df['Infant_mortality'] = df['Infant_mortality'].str.replace(',', '.')"
   ]
  },
  {
   "cell_type": "code",
   "execution_count": 10,
   "metadata": {},
   "outputs": [
    {
     "name": "stdout",
     "output_type": "stream",
     "text": [
      "<class 'pandas.core.frame.DataFrame'>\n",
      "RangeIndex: 227 entries, 0 to 226\n",
      "Data columns (total 5 columns):\n",
      "Country                227 non-null object\n",
      "Region                 227 non-null object\n",
      "Population_density     222 non-null object\n",
      "Infant_mortality       224 non-null float64\n",
      "GDP_per_cap_dollars    222 non-null float64\n",
      "dtypes: float64(2), object(3)\n",
      "memory usage: 8.9+ KB\n",
      "None\n"
     ]
    }
   ],
   "source": [
    "df[\"Infant_mortality\"] = df.Infant_mortality.astype(float)\n",
    "print(df.info())"
   ]
  },
  {
   "cell_type": "code",
   "execution_count": 11,
   "metadata": {},
   "outputs": [],
   "source": [
    "df['Population_density'] = df['Population_density'].str.replace(',', '.')"
   ]
  },
  {
   "cell_type": "code",
   "execution_count": 12,
   "metadata": {},
   "outputs": [
    {
     "name": "stdout",
     "output_type": "stream",
     "text": [
      "<class 'pandas.core.frame.DataFrame'>\n",
      "RangeIndex: 227 entries, 0 to 226\n",
      "Data columns (total 5 columns):\n",
      "Country                227 non-null object\n",
      "Region                 227 non-null object\n",
      "Population_density     222 non-null float64\n",
      "Infant_mortality       224 non-null float64\n",
      "GDP_per_cap_dollars    222 non-null float64\n",
      "dtypes: float64(3), object(2)\n",
      "memory usage: 8.9+ KB\n",
      "None\n"
     ]
    }
   ],
   "source": [
    "df[\"Population_density\"] = df.Population_density.astype(float)\n",
    "print(df.info())"
   ]
  },
  {
   "cell_type": "code",
   "execution_count": 13,
   "metadata": {},
   "outputs": [],
   "source": [
    "pd.set_option(\"display.max_rows\", 250)"
   ]
  },
  {
   "cell_type": "code",
   "execution_count": 14,
   "metadata": {},
   "outputs": [
    {
     "name": "stdout",
     "output_type": "stream",
     "text": [
      "<class 'pandas.core.frame.DataFrame'>\n",
      "Int64Index: 226 entries, 0 to 226\n",
      "Data columns (total 5 columns):\n",
      "Country                226 non-null object\n",
      "Region                 226 non-null object\n",
      "Population_density     221 non-null float64\n",
      "Infant_mortality       224 non-null float64\n",
      "GDP_per_cap_dollars    222 non-null float64\n",
      "dtypes: float64(3), object(2)\n",
      "memory usage: 10.6+ KB\n",
      "None\n"
     ]
    }
   ],
   "source": [
    "# dropping rows of Cook Islands, Western Sahara and Wallis and Futuna because of two or more missing columns\n",
    "# df = df.drop(df.index[[47, 221,223]])\n",
    "df = df.drop(df.index[223])\n",
    "print(df.info())"
   ]
  },
  {
   "cell_type": "code",
   "execution_count": 15,
   "metadata": {},
   "outputs": [],
   "source": [
    "# replacing GDP Surnam with the mean\n",
    "df['GDP_per_cap_dollars'] = df['GDP_per_cap_dollars'].replace(400000, np.nan)\n",
    "#df['GDP_per_cap_dollars'] = df['GDP_per_cap_dollars'].fillna(df['GDP_per_cap_dollars'].mean())"
   ]
  },
  {
   "cell_type": "code",
   "execution_count": 16,
   "metadata": {},
   "outputs": [
    {
     "name": "stdout",
     "output_type": "stream",
     "text": [
      "<class 'pandas.core.frame.DataFrame'>\n",
      "Int64Index: 226 entries, 0 to 226\n",
      "Data columns (total 5 columns):\n",
      "Country                226 non-null object\n",
      "Region                 226 non-null object\n",
      "Population_density     221 non-null float64\n",
      "Infant_mortality       224 non-null float64\n",
      "GDP_per_cap_dollars    226 non-null float64\n",
      "dtypes: float64(3), object(2)\n",
      "memory usage: 10.6+ KB\n",
      "None\n"
     ]
    }
   ],
   "source": [
    "# there are two rows with one missing column (GDP), for this rows, the missing value will be replaced by the mean\n",
    "#df['GDP_per_cap_dollars'].fillna(df['GDP_per_cap_dollars'].mean())\n",
    "df['GDP_per_cap_dollars'] = df['GDP_per_cap_dollars'].fillna(df['GDP_per_cap_dollars'].mean())\n",
    "print(df.info())"
   ]
  },
  {
   "cell_type": "code",
   "execution_count": 17,
   "metadata": {},
   "outputs": [
    {
     "name": "stdout",
     "output_type": "stream",
     "text": [
      "<class 'pandas.core.frame.DataFrame'>\n",
      "Int64Index: 226 entries, 0 to 226\n",
      "Data columns (total 5 columns):\n",
      "Country                226 non-null object\n",
      "Region                 226 non-null object\n",
      "Population_density     226 non-null float64\n",
      "Infant_mortality       224 non-null float64\n",
      "GDP_per_cap_dollars    226 non-null float64\n",
      "dtypes: float64(3), object(2)\n",
      "memory usage: 10.6+ KB\n",
      "None\n"
     ]
    }
   ],
   "source": [
    "# there are five rows with one missing column (population density), for this rows, the missing value will be replaced by the mean\n",
    "df['Population_density'] = df['Population_density'].fillna(df['Population_density'].mean())\n",
    "print(df.info())"
   ]
  },
  {
   "cell_type": "code",
   "execution_count": 18,
   "metadata": {},
   "outputs": [
    {
     "name": "stdout",
     "output_type": "stream",
     "text": [
      "<class 'pandas.core.frame.DataFrame'>\n",
      "Int64Index: 226 entries, 0 to 226\n",
      "Data columns (total 5 columns):\n",
      "Country                226 non-null object\n",
      "Region                 226 non-null object\n",
      "Population_density     226 non-null float64\n",
      "Infant_mortality       226 non-null float64\n",
      "GDP_per_cap_dollars    226 non-null float64\n",
      "dtypes: float64(3), object(2)\n",
      "memory usage: 10.6+ KB\n",
      "None\n"
     ]
    }
   ],
   "source": [
    "df['Infant_mortality'] = df['Infant_mortality'].fillna(df['Infant_mortality'].mean())\n",
    "print(df.info())"
   ]
  },
  {
   "cell_type": "code",
   "execution_count": 19,
   "metadata": {},
   "outputs": [],
   "source": [
    "# replacing GDP Surnam with the mean\n",
    "#df['GDP_per_cap_dollars'] = df['GDP_per_cap_dollars'].replace(400000, np.nan)\n",
    "#df['GDP_per_cap_dollars'] = df['GDP_per_cap_dollars'].fillna(df['GDP_per_cap_dollars'].mean())"
   ]
  },
  {
   "cell_type": "code",
   "execution_count": 20,
   "metadata": {},
   "outputs": [
    {
     "data": {
      "text/plain": [
       "250"
      ]
     },
     "execution_count": 20,
     "metadata": {},
     "output_type": "execute_result"
    }
   ],
   "source": [
    "pd.get_option(\"display.max_rows\")"
   ]
  },
  {
   "cell_type": "code",
   "execution_count": 21,
   "metadata": {},
   "outputs": [
    {
     "data": {
      "text/plain": [
       "9759.27601809955"
      ]
     },
     "execution_count": 21,
     "metadata": {},
     "output_type": "execute_result"
    }
   ],
   "source": [
    "df['GDP_per_cap_dollars'].mean()"
   ]
  },
  {
   "cell_type": "code",
   "execution_count": 22,
   "metadata": {},
   "outputs": [
    {
     "data": {
      "text/plain": [
       "5800.0"
      ]
     },
     "execution_count": 22,
     "metadata": {},
     "output_type": "execute_result"
    }
   ],
   "source": [
    "df['GDP_per_cap_dollars'].median()"
   ]
  },
  {
   "cell_type": "code",
   "execution_count": 23,
   "metadata": {},
   "outputs": [
    {
     "data": {
      "text/plain": [
       "0    800.0\n",
       "dtype: float64"
      ]
     },
     "execution_count": 23,
     "metadata": {},
     "output_type": "execute_result"
    }
   ],
   "source": [
    "df['GDP_per_cap_dollars'].mode()"
   ]
  },
  {
   "cell_type": "code",
   "execution_count": 24,
   "metadata": {},
   "outputs": [
    {
     "data": {
      "text/plain": [
       "10011.365426723303"
      ]
     },
     "execution_count": 24,
     "metadata": {},
     "output_type": "execute_result"
    }
   ],
   "source": [
    "df['GDP_per_cap_dollars'].std()"
   ]
  },
  {
   "cell_type": "code",
   "execution_count": 25,
   "metadata": {
    "scrolled": true
   },
   "outputs": [
    {
     "data": {
      "text/plain": [
       "array([[<matplotlib.axes._subplots.AxesSubplot object at 0x10f651e48>]],\n",
       "      dtype=object)"
      ]
     },
     "execution_count": 25,
     "metadata": {},
     "output_type": "execute_result"
    },
    {
     "data": {
      "image/png": "[encoded data removed]",
      "text/plain": [
       "<Figure size 432x288 with 1 Axes>"
      ]
     },
     "metadata": {},
     "output_type": "display_data"
    }
   ],
   "source": [
    "df.hist(column='GDP_per_cap_dollars')"
   ]
  },
  {
   "cell_type": "markdown",
   "metadata": {},
   "source": [
    "There is one clear outlier. Inspecting the dataframe shows that this one outlier is surinam.\n",
    "This number of 400000 is clearly an error, since the real GDP per capita is 5900.56 USD (source World Bank)"
   ]
  },
  {
   "cell_type": "code",
   "execution_count": 26,
   "metadata": {},
   "outputs": [],
   "source": [
    "# replacing GDP Surnam with the mean\n",
    "#df['GDP_per_cap_dollars'] = df['GDP_per_cap_dollars'].replace(400000, np.nan)"
   ]
  },
  {
   "cell_type": "code",
   "execution_count": 27,
   "metadata": {},
   "outputs": [],
   "source": [
    "#df['GDP_per_cap_dollars'] = df['GDP_per_cap_dollars'].fillna(df['GDP_per_cap_dollars'].mean())"
   ]
  },
  {
   "cell_type": "code",
   "execution_count": 28,
   "metadata": {},
   "outputs": [
    {
     "data": {
      "text/plain": [
       "9759.27601809955"
      ]
     },
     "execution_count": 28,
     "metadata": {},
     "output_type": "execute_result"
    }
   ],
   "source": [
    "df['GDP_per_cap_dollars'].mean()"
   ]
  },
  {
   "cell_type": "code",
   "execution_count": 29,
   "metadata": {},
   "outputs": [
    {
     "data": {
      "text/plain": [
       "5800.0"
      ]
     },
     "execution_count": 29,
     "metadata": {},
     "output_type": "execute_result"
    }
   ],
   "source": [
    "df['GDP_per_cap_dollars'].median()"
   ]
  },
  {
   "cell_type": "code",
   "execution_count": 30,
   "metadata": {},
   "outputs": [
    {
     "data": {
      "text/plain": [
       "10011.365426723303"
      ]
     },
     "execution_count": 30,
     "metadata": {},
     "output_type": "execute_result"
    }
   ],
   "source": [
    "# afte replacing the outlier with the mean (Surnam), the standarddeviation decreases from 27937 to 10045\n",
    "df['GDP_per_cap_dollars'].std()"
   ]
  },
  {
   "cell_type": "code",
   "execution_count": 31,
   "metadata": {},
   "outputs": [
    {
     "data": {
      "text/plain": [
       "0    800.0\n",
       "dtype: float64"
      ]
     },
     "execution_count": 31,
     "metadata": {},
     "output_type": "execute_result"
    }
   ],
   "source": [
    "df['GDP_per_cap_dollars'].mode()"
   ]
  },
  {
   "cell_type": "code",
   "execution_count": 32,
   "metadata": {},
   "outputs": [
    {
     "data": {
      "text/plain": [
       "array([[<matplotlib.axes._subplots.AxesSubplot object at 0x10f66e5f8>]],\n",
       "      dtype=object)"
      ]
     },
     "execution_count": 32,
     "metadata": {},
     "output_type": "execute_result"
    },
    {
     "data": {
      "image/png": "[encoded data removed]",
      "text/plain": [
       "<Figure size 432x288 with 1 Axes>"
      ]
     },
     "metadata": {},
     "output_type": "display_data"
    }
   ],
   "source": [
    "df.hist(column='GDP_per_cap_dollars', grid=False)"
   ]
  },
  {
   "cell_type": "code",
   "execution_count": 48,
   "metadata": {},
   "outputs": [
    {
     "data": {
      "text/plain": [
       "Text(0.5, 1.0, 'Histogram of GDP')"
      ]
     },
     "execution_count": 48,
     "metadata": {},
     "output_type": "execute_result"
    },
    {
     "data": {
      "image/png": "[encoded data removed]",
      "text/plain": [
       "<Figure size 432x288 with 1 Axes>"
      ]
     },
     "metadata": {},
     "output_type": "display_data"
    }
   ],
   "source": [
    "# Draw a graph with pandas and keep what's returned\n",
    "ax = df['GDP_per_cap_dollars'].plot(kind='hist')\n",
    "\n",
    "# Set the x-axis label\n",
    "ax.set_xlabel(\"GDP (per capita) in dollars\")\n",
    "\n",
    "# Set title\n",
    "ax.set_title(\"Histogram of GDP\")"
   ]
  },
  {
   "cell_type": "code",
   "execution_count": 33,
   "metadata": {},
   "outputs": [
    {
     "data": {
      "text/plain": [
       "<matplotlib.axes._subplots.AxesSubplot at 0x1035416d8>"
      ]
     },
     "execution_count": 33,
     "metadata": {},
     "output_type": "execute_result"
    },
    {
     "data": {
      "image/png": "[encoded data removed]",
      "text/plain": [
       "<Figure size 432x288 with 1 Axes>"
      ]
     },
     "metadata": {},
     "output_type": "display_data"
    }
   ],
   "source": [
    "df.boxplot(column='GDP_per_cap_dollars')"
   ]
  },
  {
   "cell_type": "code",
   "execution_count": 52,
   "metadata": {},
   "outputs": [
    {
     "data": {
      "text/plain": [
       "Text(0.5, 1.0, 'Boxplot of GDP')"
      ]
     },
     "execution_count": 52,
     "metadata": {},
     "output_type": "execute_result"
    },
    {
     "data": {
      "image/png": "[encoded data removed]",
      "text/plain": [
       "<Figure size 432x288 with 1 Axes>"
      ]
     },
     "metadata": {},
     "output_type": "display_data"
    }
   ],
   "source": [
    "# Draw a graph with pandas and keep what's returned\n",
    "ax_box = df['GDP_per_cap_dollars'].plot(kind='box')\n",
    "\n",
    "# Set title\n",
    "ax_box.set_title(\"Boxplot of GDP\")"
   ]
  },
  {
   "cell_type": "code",
   "execution_count": 34,
   "metadata": {},
   "outputs": [
    {
     "data": {
      "text/plain": [
       "<matplotlib.axes._subplots.AxesSubplot at 0x1034845f8>"
      ]
     },
     "execution_count": 34,
     "metadata": {},
     "output_type": "execute_result"
    },
    {
     "data": {
      "image/png": "[encoded data removed]",
      "text/plain": [
       "<Figure size 432x288 with 1 Axes>"
      ]
     },
     "metadata": {},
     "output_type": "display_data"
    }
   ],
   "source": [
    "df.boxplot(column='Infant_mortality')"
   ]
  },
  {
   "cell_type": "markdown",
   "metadata": {},
   "source": [
    "This boxplot shows 5 outliers. After manual checking, those inputs do not seem to be erroneous, because all those outliers are countries in dangerous and/or developing countries: Afghanistan, Angola, Liberia, Mozambique and Sierra Leone. For this reason, this data will not be removed/replaced."
   ]
  },
  {
   "cell_type": "code",
   "execution_count": 35,
   "metadata": {},
   "outputs": [
    {
     "data": {
      "text/plain": [
       "191.19"
      ]
     },
     "execution_count": 35,
     "metadata": {},
     "output_type": "execute_result"
    }
   ],
   "source": [
    "df['Infant_mortality'].max()"
   ]
  },
  {
   "cell_type": "code",
   "execution_count": 36,
   "metadata": {},
   "outputs": [
    {
     "data": {
      "text/plain": [
       "0    9.95\n",
       "dtype: float64"
      ]
     },
     "execution_count": 36,
     "metadata": {},
     "output_type": "execute_result"
    }
   ],
   "source": [
    "df['Infant_mortality'].mode()"
   ]
  },
  {
   "cell_type": "code",
   "execution_count": 37,
   "metadata": {},
   "outputs": [
    {
     "data": {
      "text/plain": [
       "2.29"
      ]
     },
     "execution_count": 37,
     "metadata": {},
     "output_type": "execute_result"
    }
   ],
   "source": [
    "df['Infant_mortality'].min()"
   ]
  },
  {
   "cell_type": "code",
   "execution_count": 38,
   "metadata": {},
   "outputs": [
    {
     "data": {
      "text/plain": [
       "21.04"
      ]
     },
     "execution_count": 38,
     "metadata": {},
     "output_type": "execute_result"
    }
   ],
   "source": [
    "df['Infant_mortality'].median()"
   ]
  },
  {
   "cell_type": "code",
   "execution_count": 39,
   "metadata": {},
   "outputs": [
    {
     "data": {
      "text/plain": [
       "8.2025"
      ]
     },
     "execution_count": 39,
     "metadata": {},
     "output_type": "execute_result"
    }
   ],
   "source": [
    "df['Infant_mortality'].quantile(0.25)"
   ]
  },
  {
   "cell_type": "code",
   "execution_count": 40,
   "metadata": {},
   "outputs": [
    {
     "data": {
      "text/plain": [
       "55.4225"
      ]
     },
     "execution_count": 40,
     "metadata": {},
     "output_type": "execute_result"
    }
   ],
   "source": [
    "df['Infant_mortality'].quantile(0.75)"
   ]
  },
  {
   "cell_type": "code",
   "execution_count": 41,
   "metadata": {},
   "outputs": [
    {
     "data": {
      "text/plain": [
       "55100.0"
      ]
     },
     "execution_count": 41,
     "metadata": {},
     "output_type": "execute_result"
    }
   ],
   "source": [
    "df['GDP_per_cap_dollars'].max()"
   ]
  },
  {
   "cell_type": "code",
   "execution_count": 42,
   "metadata": {},
   "outputs": [
    {
     "data": {
      "text/plain": [
       "array(['ASIA (EX. NEAR EAST)         ',\n",
       "       'EASTERN EUROPE                     ',\n",
       "       'NORTHERN AFRICA                    ',\n",
       "       'OCEANIA                            ',\n",
       "       'WESTERN EUROPE                     ',\n",
       "       'SUB-SAHARAN AFRICA                 ', 'LATIN AMER. & CARIB    ',\n",
       "       'C.W. OF IND. STATES ', 'NEAR EAST                          ',\n",
       "       'NORTHERN AMERICA                   ',\n",
       "       'BALTICS                            '], dtype=object)"
      ]
     },
     "execution_count": 42,
     "metadata": {},
     "output_type": "execute_result"
    }
   ],
   "source": [
    "df['Region'].unique()"
   ]
  },
  {
   "cell_type": "code",
   "execution_count": 43,
   "metadata": {},
   "outputs": [
    {
     "data": {
      "text/plain": [
       "<matplotlib.axes._subplots.AxesSubplot at 0x111833438>"
      ]
     },
     "execution_count": 43,
     "metadata": {},
     "output_type": "execute_result"
    },
    {
     "data": {
      "image/png": "[encoded data removed]",
      "text/plain": [
       "<Figure size 432x288 with 1 Axes>"
      ]
     },
     "metadata": {},
     "output_type": "display_data"
    }
   ],
   "source": [
    "import seaborn\n",
    "seaborn.set(style='ticks')\n",
    "\n",
    "#c='Region',\n",
    "#colormap='viridis'\n",
    "\n",
    "df.plot.scatter(x='GDP_per_cap_dollars',\n",
    "                y='Infant_mortality')"
   ]
  },
  {
   "cell_type": "code",
   "execution_count": 44,
   "metadata": {},
   "outputs": [
    {
     "data": {
      "text/html": [
       "<div>\n",
       "<style scoped>\n",
       "    .dataframe tbody tr th:only-of-type {\n",
       "        vertical-align: middle;\n",
       "    }\n",
       "\n",
       "    .dataframe tbody tr th {\n",
       "        vertical-align: top;\n",
       "    }\n",
       "\n",
       "    .dataframe thead th {\n",
       "        text-align: right;\n",
       "    }\n",
       "</style>\n",
       "<table border=\"1\" class=\"dataframe\">\n",
       "  <thead>\n",
       "    <tr style=\"text-align: right;\">\n",
       "      <th></th>\n",
       "      <th>Country</th>\n",
       "      <th>Region</th>\n",
       "      <th>Population_density</th>\n",
       "      <th>Infant_mortality</th>\n",
       "      <th>GDP_per_cap_dollars</th>\n",
       "    </tr>\n",
       "  </thead>\n",
       "  <tbody>\n",
       "    <tr>\n",
       "      <th>0</th>\n",
       "      <td>Afghanistan</td>\n",
       "      <td>ASIA (EX. NEAR EAST)</td>\n",
       "      <td>48.0</td>\n",
       "      <td>163.07</td>\n",
       "      <td>700.0</td>\n",
       "    </tr>\n",
       "    <tr>\n",
       "      <th>1</th>\n",
       "      <td>Albania</td>\n",
       "      <td>EASTERN EUROPE</td>\n",
       "      <td>124.6</td>\n",
       "      <td>21.52</td>\n",
       "      <td>4500.0</td>\n",
       "    </tr>\n",
       "    <tr>\n",
       "      <th>2</th>\n",
       "      <td>Algeria</td>\n",
       "      <td>NORTHERN AFRICA</td>\n",
       "      <td>13.8</td>\n",
       "      <td>31.00</td>\n",
       "      <td>6000.0</td>\n",
       "    </tr>\n",
       "    <tr>\n",
       "      <th>3</th>\n",
       "      <td>American Samoa</td>\n",
       "      <td>OCEANIA</td>\n",
       "      <td>290.4</td>\n",
       "      <td>9.27</td>\n",
       "      <td>8000.0</td>\n",
       "    </tr>\n",
       "    <tr>\n",
       "      <th>4</th>\n",
       "      <td>Andorra</td>\n",
       "      <td>WESTERN EUROPE</td>\n",
       "      <td>152.1</td>\n",
       "      <td>4.05</td>\n",
       "      <td>19000.0</td>\n",
       "    </tr>\n",
       "  </tbody>\n",
       "</table>\n",
       "</div>"
      ],
      "text/plain": [
       "           Country                               Region  Population_density  \\\n",
       "0     Afghanistan         ASIA (EX. NEAR EAST)                         48.0   \n",
       "1         Albania   EASTERN EUROPE                                    124.6   \n",
       "2         Algeria   NORTHERN AFRICA                                    13.8   \n",
       "3  American Samoa   OCEANIA                                           290.4   \n",
       "4         Andorra   WESTERN EUROPE                                    152.1   \n",
       "\n",
       "   Infant_mortality  GDP_per_cap_dollars  \n",
       "0            163.07                700.0  \n",
       "1             21.52               4500.0  \n",
       "2             31.00               6000.0  \n",
       "3              9.27               8000.0  \n",
       "4              4.05              19000.0  "
      ]
     },
     "execution_count": 44,
     "metadata": {},
     "output_type": "execute_result"
    }
   ],
   "source": [
    "df.head()"
   ]
  },
  {
   "cell_type": "code",
   "execution_count": 45,
   "metadata": {},
   "outputs": [
    {
     "ename": "SyntaxError",
     "evalue": "invalid syntax (<ipython-input-45-366afdb441af>, line 7)",
     "output_type": "error",
     "traceback": [
      "\u001b[0;36m  File \u001b[0;32m\"<ipython-input-45-366afdb441af>\"\u001b[0;36m, line \u001b[0;32m7\u001b[0m\n\u001b[0;31m    for i,c in enumerate(colorlist):\u001b[0m\n\u001b[0m                                   ^\u001b[0m\n\u001b[0;31mSyntaxError\u001b[0m\u001b[0;31m:\u001b[0m invalid syntax\n"
     ]
    }
   ],
   "source": [
    "fig, ax = plt.subplots()\n",
    "\n",
    "colormap = cm.viridis\n",
    "#colorlist = [colors.rgb2hex(colormap(i)) for i in np.linspace(0, 0.9, len(df['Region'].unique()))]\n",
    "colorlist = [colors.rgb2hex(colormap(i)) for i in len(df['Region'].unique())\n",
    "\n",
    "for i,c in enumerate(colorlist):\n",
    "\n",
    "    x = df['GDP_per_cap_dollars'][i]\n",
    "    y = df['Infant_mortality'][i]\n",
    "    l = df['Region'][i]\n",
    "\n",
    "    ax.scatter(x, y, label=l, s=50, linewidth=0.1, c=c)\n",
    "\n",
    "ax.legend()\n",
    "\n",
    "plt.show()"
   ]
  },
  {
   "cell_type": "code",
   "execution_count": null,
   "metadata": {},
   "outputs": [],
   "source": [
    "df_colored_regions = df"
   ]
  },
  {
   "cell_type": "code",
   "execution_count": null,
   "metadata": {},
   "outputs": [],
   "source": [
    "df_colored_regions['Region'].unique()"
   ]
  },
  {
   "cell_type": "code",
   "execution_count": null,
   "metadata": {},
   "outputs": [],
   "source": [
    "df_colored_regions['Region'] = df_colored_regions['Region'].replace('ASIA (EX. NEAR EAST)         ', 7)\n",
    "df_colored_regions['Region'] = df_colored_regions['Region'].replace('EASTERN EUROPE                     ', 2)\n",
    "df_colored_regions['Region'] = df_colored_regions['Region'].replace('NORTHERN AFRICA                    ', 10)\n",
    "df_colored_regions['Region'] = df_colored_regions['Region'].replace('OCEANIA                            ', 5)\n",
    "df_colored_regions['Region'] = df_colored_regions['Region'].replace('WESTERN EUROPE                     ', 1)\n",
    "df_colored_regions['Region'] = df_colored_regions['Region'].replace('SUB-SAHARAN AFRICA                 ', 11)\n",
    "df_colored_regions['Region'] = df_colored_regions['Region'].replace('LATIN AMER. & CARIB    ', 8)\n",
    "df_colored_regions['Region'] = df_colored_regions['Region'].replace('C.W. OF IND. STATES ', 9)\n",
    "df_colored_regions['Region'] = df_colored_regions['Region'].replace('NORTHERN AMERICA                   ', 4)\n",
    "df_colored_regions['Region'] = df_colored_regions['Region'].replace('BALTICS                            ', 3)\n",
    "df_colored_regions['Region'] = df_colored_regions['Region'].replace('NEAR EAST                          ', 6)"
   ]
  },
  {
   "cell_type": "code",
   "execution_count": null,
   "metadata": {},
   "outputs": [],
   "source": [
    "#df_colored_regions.reset_index(inplace=True)"
   ]
  },
  {
   "cell_type": "code",
   "execution_count": null,
   "metadata": {},
   "outputs": [],
   "source": [
    "df_colored_regions.plot.scatter(x='GDP_per_cap_dollars',\n",
    "                                y='Infant_mortality',\n",
    "                                c='Region',\n",
    "                                colormap='viridis')"
   ]
  },
  {
   "cell_type": "code",
   "execution_count": null,
   "metadata": {},
   "outputs": [],
   "source": []
  },
  {
   "cell_type": "code",
   "execution_count": null,
   "metadata": {},
   "outputs": [],
   "source": [
    "df.set_index('Country', inplace=True)"
   ]
  },
  {
   "cell_type": "code",
   "execution_count": null,
   "metadata": {},
   "outputs": [],
   "source": [
    "df_json = df.to_json(orient='index')"
   ]
  },
  {
   "cell_type": "code",
   "execution_count": null,
   "metadata": {},
   "outputs": [],
   "source": [
    "print(df_json)"
   ]
  },
  {
   "cell_type": "code",
   "execution_count": null,
   "metadata": {},
   "outputs": [],
   "source": []
  }
 ],
 "metadata": {
  "kernelspec": {
   "display_name": "Python 3",
   "language": "python",
   "name": "python3"
  },
  "language_info": {
   "codemirror_mode": {
    "name": "ipython",
    "version": 3
   },
   "file_extension": ".py",
   "mimetype": "text/x-python",
   "name": "python",
   "nbconvert_exporter": "python",
   "pygments_lexer": "ipython3",
   "version": "3.6.5"
  }
 },
 "nbformat": 4,
 "nbformat_minor": 2
}
