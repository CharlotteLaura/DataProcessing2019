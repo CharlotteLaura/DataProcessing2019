{
 "cells": [
  {
   "cell_type": "code",
   "execution_count": 175,
   "metadata": {},
   "outputs": [],
   "source": [
    "import csv\n",
    "import matplotlib.pyplot as plt\n",
    "import pandas as pd\n",
    "import numpy as np\n",
    "import matplotlib.cm as cm\n",
    "import matplotlib.colors as colors\n",
    "import seaborn\n",
    "seaborn.set(style='ticks', rc={'figure.figsize': (12,8)})"
   ]
  },
  {
   "cell_type": "markdown",
   "metadata": {},
   "source": [
    "# Loading in the data and converting the data to a dataframe "
   ]
  },
  {
   "cell_type": "code",
   "execution_count": 176,
   "metadata": {},
   "outputs": [],
   "source": [
    "input_csv = \"input.csv\""
   ]
  },
  {
   "cell_type": "code",
   "execution_count": 177,
   "metadata": {},
   "outputs": [],
   "source": [
    "# creating a dataframe\n",
    "df = pd.read_csv(input_csv)"
   ]
  },
  {
   "cell_type": "markdown",
   "metadata": {},
   "source": [
    "# Cleaning the data"
   ]
  },
  {
   "cell_type": "code",
   "execution_count": 178,
   "metadata": {},
   "outputs": [],
   "source": [
    "# extracting relevant columns\n",
    "relevant_columns = ['Country', 'Region', 'Pop. Density (per sq. mi.)', 'Infant mortality (per 1000 births)', 'GDP ($ per capita) dollars']\n",
    "df = df[relevant_columns]\n"
   ]
  },
  {
   "cell_type": "code",
   "execution_count": 179,
   "metadata": {},
   "outputs": [],
   "source": [
    "# renaming columns \n",
    "df.rename(columns={'Pop. Density (per sq. mi.)':'Population_density',\n",
    "                          'Infant mortality (per 1000 births)':'Infant_mortality',\n",
    "                          'GDP ($ per capita) dollars':'GDP_per_cap_dollars'}, \n",
    "                 inplace=True)"
   ]
  },
  {
   "cell_type": "code",
   "execution_count": 180,
   "metadata": {},
   "outputs": [],
   "source": [
    "# cleaning the GDP_per_cap_dollars column to prepare it to convert from oject to float\n",
    "df.iloc[:, 4] = df.iloc[:, 4].str.strip(' dollars')"
   ]
  },
  {
   "cell_type": "code",
   "execution_count": 181,
   "metadata": {},
   "outputs": [],
   "source": [
    "# replacing al the cells with value 'unknown' to NaN\n",
    "df.replace('unknown', np.nan, inplace=True)"
   ]
  },
  {
   "cell_type": "code",
   "execution_count": 182,
   "metadata": {
    "scrolled": true
   },
   "outputs": [
    {
     "name": "stdout",
     "output_type": "stream",
     "text": [
      "<class 'pandas.core.frame.DataFrame'>\n",
      "RangeIndex: 227 entries, 0 to 226\n",
      "Data columns (total 5 columns):\n",
      "Country                227 non-null object\n",
      "Region                 227 non-null object\n",
      "Population_density     222 non-null object\n",
      "Infant_mortality       224 non-null object\n",
      "GDP_per_cap_dollars    222 non-null float64\n",
      "dtypes: float64(1), object(4)\n",
      "memory usage: 8.9+ KB\n",
      "None\n"
     ]
    }
   ],
   "source": [
    "# converts GDP_per_cap_column from object to float to be able to do calculations\n",
    "df[\"GDP_per_cap_dollars\"] = df.GDP_per_cap_dollars.astype(float)\n",
    "print(df.info())"
   ]
  },
  {
   "cell_type": "code",
   "execution_count": 183,
   "metadata": {},
   "outputs": [],
   "source": [
    "# cleaning the Infant_mortality column to prepare it to convert from oject to float\n",
    "df['Infant_mortality'] = df['Infant_mortality'].str.replace(',', '.')"
   ]
  },
  {
   "cell_type": "code",
   "execution_count": 184,
   "metadata": {},
   "outputs": [
    {
     "name": "stdout",
     "output_type": "stream",
     "text": [
      "<class 'pandas.core.frame.DataFrame'>\n",
      "RangeIndex: 227 entries, 0 to 226\n",
      "Data columns (total 5 columns):\n",
      "Country                227 non-null object\n",
      "Region                 227 non-null object\n",
      "Population_density     222 non-null object\n",
      "Infant_mortality       224 non-null float64\n",
      "GDP_per_cap_dollars    222 non-null float64\n",
      "dtypes: float64(2), object(3)\n",
      "memory usage: 8.9+ KB\n",
      "None\n"
     ]
    }
   ],
   "source": [
    "df[\"Infant_mortality\"] = df.Infant_mortality.astype(float)\n",
    "print(df.info())"
   ]
  },
  {
   "cell_type": "code",
   "execution_count": 185,
   "metadata": {},
   "outputs": [],
   "source": [
    "df['Population_density'] = df['Population_density'].str.replace(',', '.')"
   ]
  },
  {
   "cell_type": "code",
   "execution_count": 186,
   "metadata": {},
   "outputs": [
    {
     "name": "stdout",
     "output_type": "stream",
     "text": [
      "<class 'pandas.core.frame.DataFrame'>\n",
      "RangeIndex: 227 entries, 0 to 226\n",
      "Data columns (total 5 columns):\n",
      "Country                227 non-null object\n",
      "Region                 227 non-null object\n",
      "Population_density     222 non-null float64\n",
      "Infant_mortality       224 non-null float64\n",
      "GDP_per_cap_dollars    222 non-null float64\n",
      "dtypes: float64(3), object(2)\n",
      "memory usage: 8.9+ KB\n",
      "None\n"
     ]
    }
   ],
   "source": [
    "df[\"Population_density\"] = df.Population_density.astype(float)\n",
    "print(df.info())"
   ]
  },
  {
   "cell_type": "code",
   "execution_count": 187,
   "metadata": {},
   "outputs": [],
   "source": [
    "# replacing missing values with value 0 to NaN's so they do not influence calculations\n",
    "df['Population_density'] = df['Population_density'].replace(0, np.nan)"
   ]
  },
  {
   "cell_type": "code",
   "execution_count": 188,
   "metadata": {},
   "outputs": [
    {
     "name": "stdout",
     "output_type": "stream",
     "text": [
      "<class 'pandas.core.frame.DataFrame'>\n",
      "Int64Index: 226 entries, 0 to 226\n",
      "Data columns (total 5 columns):\n",
      "Country                226 non-null object\n",
      "Region                 226 non-null object\n",
      "Population_density     220 non-null float64\n",
      "Infant_mortality       224 non-null float64\n",
      "GDP_per_cap_dollars    222 non-null float64\n",
      "dtypes: float64(3), object(2)\n",
      "memory usage: 10.6+ KB\n",
      "None\n"
     ]
    }
   ],
   "source": [
    "# dropping a row because of two or more missing columns\n",
    "df = df.drop(df.index[223])\n",
    "print(df.info())"
   ]
  },
  {
   "cell_type": "code",
   "execution_count": 189,
   "metadata": {},
   "outputs": [],
   "source": [
    "# replacing GDP of Surinam with NaN\n",
    "df['GDP_per_cap_dollars'] = df['GDP_per_cap_dollars'].replace(400000, np.nan)"
   ]
  },
  {
   "cell_type": "markdown",
   "metadata": {},
   "source": [
    "After manually nspecting the dataframe, Surinam appears to be an outlier.\n",
    "This number of 400000 is clearly an error, since the real GDP per capita is 5900.56 USD (source World Bank)."
   ]
  },
  {
   "cell_type": "code",
   "execution_count": 190,
   "metadata": {},
   "outputs": [
    {
     "name": "stdout",
     "output_type": "stream",
     "text": [
      "<class 'pandas.core.frame.DataFrame'>\n",
      "Int64Index: 226 entries, 0 to 226\n",
      "Data columns (total 5 columns):\n",
      "Country                226 non-null object\n",
      "Region                 226 non-null object\n",
      "Population_density     220 non-null float64\n",
      "Infant_mortality       224 non-null float64\n",
      "GDP_per_cap_dollars    226 non-null float64\n",
      "dtypes: float64(3), object(2)\n",
      "memory usage: 10.6+ KB\n",
      "None\n"
     ]
    }
   ],
   "source": [
    "# there are four rows with one missing value (GDP), for this rows, the missing value will be replaced by the mean\n",
    "df['GDP_per_cap_dollars'] = df['GDP_per_cap_dollars'].fillna(df['GDP_per_cap_dollars'].mean())\n",
    "print(df.info())"
   ]
  },
  {
   "cell_type": "code",
   "execution_count": 191,
   "metadata": {},
   "outputs": [
    {
     "name": "stdout",
     "output_type": "stream",
     "text": [
      "<class 'pandas.core.frame.DataFrame'>\n",
      "Int64Index: 226 entries, 0 to 226\n",
      "Data columns (total 5 columns):\n",
      "Country                226 non-null object\n",
      "Region                 226 non-null object\n",
      "Population_density     226 non-null float64\n",
      "Infant_mortality       224 non-null float64\n",
      "GDP_per_cap_dollars    226 non-null float64\n",
      "dtypes: float64(3), object(2)\n",
      "memory usage: 10.6+ KB\n",
      "None\n"
     ]
    }
   ],
   "source": [
    "# there are six rows with one missing column (population density), for this rows, the missing value will be replaced by the mean\n",
    "df['Population_density'] = df['Population_density'].fillna(df['Population_density'].mean())\n",
    "print(df.info())"
   ]
  },
  {
   "cell_type": "code",
   "execution_count": 192,
   "metadata": {},
   "outputs": [
    {
     "name": "stdout",
     "output_type": "stream",
     "text": [
      "<class 'pandas.core.frame.DataFrame'>\n",
      "Int64Index: 226 entries, 0 to 226\n",
      "Data columns (total 5 columns):\n",
      "Country                226 non-null object\n",
      "Region                 226 non-null object\n",
      "Population_density     226 non-null float64\n",
      "Infant_mortality       226 non-null float64\n",
      "GDP_per_cap_dollars    226 non-null float64\n",
      "dtypes: float64(3), object(2)\n",
      "memory usage: 10.6+ KB\n",
      "None\n"
     ]
    }
   ],
   "source": [
    "# there are two rows with one missing column (Infant_mortality), for this rows, the missing value will be replaced by the mean\n",
    "df['Infant_mortality'] = df['Infant_mortality'].fillna(df['Infant_mortality'].mean())\n",
    "print(df.info())"
   ]
  },
  {
   "cell_type": "markdown",
   "metadata": {},
   "source": [
    "# Descriptive statistiscs and visualization for GDP per capita"
   ]
  },
  {
   "cell_type": "code",
   "execution_count": 193,
   "metadata": {},
   "outputs": [
    {
     "data": {
      "text/plain": [
       "9759.27601809955"
      ]
     },
     "execution_count": 193,
     "metadata": {},
     "output_type": "execute_result"
    }
   ],
   "source": [
    "# mean\n",
    "df['GDP_per_cap_dollars'].mean()"
   ]
  },
  {
   "cell_type": "code",
   "execution_count": 194,
   "metadata": {},
   "outputs": [
    {
     "data": {
      "text/plain": [
       "5800.0"
      ]
     },
     "execution_count": 194,
     "metadata": {},
     "output_type": "execute_result"
    }
   ],
   "source": [
    "# median\n",
    "df['GDP_per_cap_dollars'].median()"
   ]
  },
  {
   "cell_type": "code",
   "execution_count": 195,
   "metadata": {},
   "outputs": [
    {
     "data": {
      "text/plain": [
       "0    800.0\n",
       "dtype: float64"
      ]
     },
     "execution_count": 195,
     "metadata": {},
     "output_type": "execute_result"
    }
   ],
   "source": [
    "# mode\n",
    "df['GDP_per_cap_dollars'].mode()"
   ]
  },
  {
   "cell_type": "code",
   "execution_count": 196,
   "metadata": {},
   "outputs": [
    {
     "data": {
      "text/plain": [
       "10011.365426723303"
      ]
     },
     "execution_count": 196,
     "metadata": {},
     "output_type": "execute_result"
    }
   ],
   "source": [
    "# standard deviation \n",
    "df['GDP_per_cap_dollars'].std()"
   ]
  },
  {
   "cell_type": "code",
   "execution_count": 197,
   "metadata": {},
   "outputs": [
    {
     "data": {
      "text/plain": [
       "Text(0.5, 1.0, 'Histogram of GDP')"
      ]
     },
     "execution_count": 197,
     "metadata": {},
     "output_type": "execute_result"
    },
    {
     "data": {
      "image/png": "[encoded data removed]",
      "text/plain": [
       "<Figure size 864x576 with 1 Axes>"
      ]
     },
     "metadata": {},
     "output_type": "display_data"
    }
   ],
   "source": [
    "# drawing the histogram for GDP column\n",
    "histogram_gdp = df['GDP_per_cap_dollars'].plot(kind='hist', grid=True)\n",
    "\n",
    "# set the x-axis label\n",
    "histogram_gdp.set_xlabel(\"GDP (per capita) in dollars\")\n",
    "\n",
    "# set title\n",
    "histogram_gdp.set_title(\"Histogram of GDP\")"
   ]
  },
  {
   "cell_type": "code",
   "execution_count": 198,
   "metadata": {},
   "outputs": [
    {
     "data": {
      "text/plain": [
       "Text(0.5, 1.0, 'Boxplot of GDP')"
      ]
     },
     "execution_count": 198,
     "metadata": {},
     "output_type": "execute_result"
    },
    {
     "data": {
      "image/png": "[encoded data removed]",
      "text/plain": [
       "<Figure size 864x576 with 1 Axes>"
      ]
     },
     "metadata": {},
     "output_type": "display_data"
    }
   ],
   "source": [
    "# drawing the boxplot for GDP column\n",
    "ax_box_gdp = df['GDP_per_cap_dollars'].plot(kind='box', grid=True)\n",
    "\n",
    "# set title\n",
    "ax_box_gdp.set_title(\"Boxplot of GDP\")"
   ]
  },
  {
   "cell_type": "markdown",
   "metadata": {},
   "source": [
    "The histogram and boxplot both show that this data is skewed to the right. This can also be seen in the descriptive statistics, because the mean is greater than the median. The boxplot also shows three outliers, but after manual inspection, the data entries do not seem erroneous (Bermuda, Norway and USA)."
   ]
  },
  {
   "cell_type": "markdown",
   "metadata": {},
   "source": [
    "# Five number summary and visualization for infant mortality"
   ]
  },
  {
   "cell_type": "code",
   "execution_count": 199,
   "metadata": {},
   "outputs": [
    {
     "data": {
      "text/plain": [
       "191.19"
      ]
     },
     "execution_count": 199,
     "metadata": {},
     "output_type": "execute_result"
    }
   ],
   "source": [
    "# maximum\n",
    "df['Infant_mortality'].max()"
   ]
  },
  {
   "cell_type": "code",
   "execution_count": 200,
   "metadata": {},
   "outputs": [
    {
     "data": {
      "text/plain": [
       "2.29"
      ]
     },
     "execution_count": 200,
     "metadata": {},
     "output_type": "execute_result"
    }
   ],
   "source": [
    "# minimum\n",
    "df['Infant_mortality'].min()"
   ]
  },
  {
   "cell_type": "code",
   "execution_count": 201,
   "metadata": {},
   "outputs": [
    {
     "data": {
      "text/plain": [
       "21.04"
      ]
     },
     "execution_count": 201,
     "metadata": {},
     "output_type": "execute_result"
    }
   ],
   "source": [
    "# median\n",
    "df['Infant_mortality'].median()"
   ]
  },
  {
   "cell_type": "code",
   "execution_count": 202,
   "metadata": {},
   "outputs": [
    {
     "data": {
      "text/plain": [
       "8.2025"
      ]
     },
     "execution_count": 202,
     "metadata": {},
     "output_type": "execute_result"
    }
   ],
   "source": [
    "# first quantile\n",
    "df['Infant_mortality'].quantile(0.25)"
   ]
  },
  {
   "cell_type": "code",
   "execution_count": 203,
   "metadata": {},
   "outputs": [
    {
     "data": {
      "text/plain": [
       "55.4225"
      ]
     },
     "execution_count": 203,
     "metadata": {},
     "output_type": "execute_result"
    }
   ],
   "source": [
    "# third quantile\n",
    "df['Infant_mortality'].quantile(0.75)"
   ]
  },
  {
   "cell_type": "code",
   "execution_count": 204,
   "metadata": {},
   "outputs": [
    {
     "data": {
      "text/plain": [
       "Text(0.5, 1.0, 'Boxplot of Infant Mortality')"
      ]
     },
     "execution_count": 204,
     "metadata": {},
     "output_type": "execute_result"
    },
    {
     "data": {
      "image/png": "[encoded data removed]",
      "text/plain": [
       "<Figure size 864x576 with 1 Axes>"
      ]
     },
     "metadata": {},
     "output_type": "display_data"
    }
   ],
   "source": [
    "# drawing the boxplot for Infant mortality column\n",
    "ax_box_im = df['Infant_mortality'].plot(kind='box', grid=True)\n",
    "\n",
    "# set title\n",
    "ax_box_im.set_title(\"Boxplot of Infant Mortality\")"
   ]
  },
  {
   "cell_type": "markdown",
   "metadata": {},
   "source": [
    "This boxplot shows five outliers. After manual checking, those inputs do not seem to be erroneous, because all those outliers are countries in dangerous and/or developing countries: Afghanistan, Angola, Liberia, Mozambique and Sierra Leone. For this reason, this data will not be removed/replaced."
   ]
  },
  {
   "cell_type": "markdown",
   "metadata": {},
   "source": [
    "# Bonus: scatterplot incorporating both the GDP and Infant Mortality Data"
   ]
  },
  {
   "cell_type": "code",
   "execution_count": 205,
   "metadata": {},
   "outputs": [
    {
     "data": {
      "text/plain": [
       "<seaborn.axisgrid.FacetGrid at 0x1a1f430278>"
      ]
     },
     "execution_count": 205,
     "metadata": {},
     "output_type": "execute_result"
    },
    {
     "data": {
      "image/png": "[encoded data removed]",
      "text/plain": [
       "<Figure size 789.725x576 with 1 Axes>"
      ]
     },
     "metadata": {},
     "output_type": "display_data"
    }
   ],
   "source": [
    "# using seaborn library to visualize countries colored by their region\n",
    "fg = seaborn.FacetGrid(data=df, hue='Region', height=8)\n",
    "fg.map(plt.scatter, 'GDP_per_cap_dollars', 'Infant_mortality').add_legend()"
   ]
  },
  {
   "cell_type": "markdown",
   "metadata": {},
   "source": [
    "Analysis: there appears to be a negative connection between GDP per capita and infant mortality. The scatterplot also shows that countries of the same region cluster together on the scatterplot. For example, most western european countries cluster together on the low-right part of the scatterplot, indicating that countries of this region have a relatively high GDP per capita and low infant mortality."
   ]
  },
  {
   "cell_type": "markdown",
   "metadata": {},
   "source": [
    "# From dataframe to .json"
   ]
  },
  {
   "cell_type": "code",
   "execution_count": null,
   "metadata": {},
   "outputs": [],
   "source": [
    "# reset the index of dataframe to achieve necessary structure (with country as index)\n",
    "df.set_index('Country', inplace=True)"
   ]
  },
  {
   "cell_type": "code",
   "execution_count": null,
   "metadata": {},
   "outputs": [],
   "source": [
    "# convert dataframe to json structure and write to a json file\n",
    "df_json = df.to_json('data2.json', orient='index')"
   ]
  }
 ],
 "metadata": {
  "kernelspec": {
   "display_name": "Python 3",
   "language": "python",
   "name": "python3"
  },
  "language_info": {
   "codemirror_mode": {
    "name": "ipython",
    "version": 3
   },
   "file_extension": ".py",
   "mimetype": "text/x-python",
   "name": "python",
   "nbconvert_exporter": "python",
   "pygments_lexer": "ipython3",
   "version": "3.6.5"
  }
 },
 "nbformat": 4,
 "nbformat_minor": 2
}
